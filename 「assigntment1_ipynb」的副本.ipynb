{
  "nbformat": 4,
  "nbformat_minor": 0,
  "metadata": {
    "colab": {
      "name": "「assigntment1.ipynb」的副本",
      "provenance": [],
      "collapsed_sections": [],
      "include_colab_link": true
    },
    "kernelspec": {
      "name": "ir",
      "display_name": "R"
    }
  },
  "cells": [
    {
      "cell_type": "markdown",
      "metadata": {
        "id": "view-in-github",
        "colab_type": "text"
      },
      "source": [
        "<a href=\"https://colab.research.google.com/github/GooZzzEee0123/dumb-goose/blob/master/%E3%80%8Cassigntment1_ipynb%E3%80%8D%E7%9A%84%E5%89%AF%E6%9C%AC.ipynb\" target=\"_parent\"><img src=\"https://colab.research.google.com/assets/colab-badge.svg\" alt=\"Open In Colab\"/></a>"
      ]
    },
    {
      "cell_type": "code",
      "metadata": {
        "id": "pKZqq8dgWf4q",
        "colab_type": "code",
        "colab": {
          "base_uri": "https://localhost:8080/",
          "height": 34
        },
        "outputId": "d06144ed-5e7d-4a32-e60e-da7a1f3ffaba"
      },
      "source": [
        "class(-8)"
      ],
      "execution_count": null,
      "outputs": [
        {
          "output_type": "display_data",
          "data": {
            "text/plain": [
              "[1] \"numeric\""
            ],
            "text/latex": "'numeric'",
            "text/markdown": "'numeric'",
            "text/html": [
              "'numeric'"
            ]
          },
          "metadata": {
            "tags": []
          }
        }
      ]
    },
    {
      "cell_type": "code",
      "metadata": {
        "id": "M28VwjbTXML_",
        "colab_type": "code",
        "colab": {
          "base_uri": "https://localhost:8080/",
          "height": 34
        },
        "outputId": "289edc09-c588-4ab3-8ead-3b3828c6abba"
      },
      "source": [
        "class(\"honk\")"
      ],
      "execution_count": null,
      "outputs": [
        {
          "output_type": "display_data",
          "data": {
            "text/plain": [
              "[1] \"character\""
            ],
            "text/latex": "'character'",
            "text/markdown": "'character'",
            "text/html": [
              "'character'"
            ]
          },
          "metadata": {
            "tags": []
          }
        }
      ]
    },
    {
      "cell_type": "code",
      "metadata": {
        "id": "98AbEBwbXoyH",
        "colab_type": "code",
        "colab": {
          "base_uri": "https://localhost:8080/",
          "height": 34
        },
        "outputId": "3ac020ee-662f-4f72-9fd4-12b01dc0625e"
      },
      "source": [
        "5 + 8"
      ],
      "execution_count": null,
      "outputs": [
        {
          "output_type": "display_data",
          "data": {
            "text/plain": [
              "[1] 13"
            ],
            "text/latex": "13",
            "text/markdown": "13",
            "text/html": [
              "13"
            ]
          },
          "metadata": {
            "tags": []
          }
        }
      ]
    },
    {
      "cell_type": "code",
      "metadata": {
        "id": "lqt_gOMSX2RJ",
        "colab_type": "code",
        "colab": {
          "base_uri": "https://localhost:8080/",
          "height": 34
        },
        "outputId": "fab5c3e1-d161-43b8-89fe-eff2018c41bc"
      },
      "source": [
        "0<1"
      ],
      "execution_count": null,
      "outputs": [
        {
          "output_type": "display_data",
          "data": {
            "text/plain": [
              "[1] TRUE"
            ],
            "text/latex": "TRUE",
            "text/markdown": "TRUE",
            "text/html": [
              "TRUE"
            ]
          },
          "metadata": {
            "tags": []
          }
        }
      ]
    },
    {
      "cell_type": "code",
      "metadata": {
        "id": "suOTaKI8X9PG",
        "colab_type": "code",
        "colab": {
          "base_uri": "https://localhost:8080/",
          "height": 34
        },
        "outputId": "48cfda81-da90-42ef-f919-4480548d7375"
      },
      "source": [
        "8*8*8"
      ],
      "execution_count": null,
      "outputs": [
        {
          "output_type": "display_data",
          "data": {
            "text/plain": [
              "[1] 512"
            ],
            "text/latex": "512",
            "text/markdown": "512",
            "text/html": [
              "512"
            ]
          },
          "metadata": {
            "tags": []
          }
        }
      ]
    },
    {
      "cell_type": "code",
      "metadata": {
        "id": "Dh0DtXxJYhB5",
        "colab_type": "code",
        "colab": {}
      },
      "source": [
        "my_H <- 1.86"
      ],
      "execution_count": null,
      "outputs": []
    },
    {
      "cell_type": "code",
      "metadata": {
        "id": "_7RuPnrpY3v1",
        "colab_type": "code",
        "colab": {}
      },
      "source": [
        "my_W <- 65"
      ],
      "execution_count": null,
      "outputs": []
    },
    {
      "cell_type": "code",
      "metadata": {
        "id": "tVKOFAzOZTP9",
        "colab_type": "code",
        "colab": {
          "base_uri": "https://localhost:8080/",
          "height": 34
        },
        "outputId": "abd741c5-d81b-48a9-d147-028cbc1dc191"
      },
      "source": [
        "my_H"
      ],
      "execution_count": null,
      "outputs": [
        {
          "output_type": "display_data",
          "data": {
            "text/plain": [
              "[1] 1.86"
            ],
            "text/latex": "1.86",
            "text/markdown": "1.86",
            "text/html": [
              "1.86"
            ]
          },
          "metadata": {
            "tags": []
          }
        }
      ]
    },
    {
      "cell_type": "code",
      "metadata": {
        "id": "RmnyeSuDasau",
        "colab_type": "code",
        "colab": {
          "base_uri": "https://localhost:8080/",
          "height": 34
        },
        "outputId": "92a1e7b8-1c6b-45f0-e2b6-6c2e6dae273b"
      },
      "source": [
        "my_W / my_H / my_H"
      ],
      "execution_count": null,
      "outputs": [
        {
          "output_type": "display_data",
          "data": {
            "text/plain": [
              "[1] 18.7883"
            ],
            "text/latex": "18.788299225344",
            "text/markdown": "18.788299225344",
            "text/html": [
              "18.788299225344"
            ]
          },
          "metadata": {
            "tags": []
          }
        }
      ]
    },
    {
      "cell_type": "code",
      "metadata": {
        "id": "jUZv3SsgY9J5",
        "colab_type": "code",
        "colab": {}
      },
      "source": [
        "first_name <- \"ㄆㄐㄏ\""
      ],
      "execution_count": null,
      "outputs": []
    },
    {
      "cell_type": "code",
      "metadata": {
        "id": "ZRjodECHZsfd",
        "colab_type": "code",
        "colab": {
          "base_uri": "https://localhost:8080/",
          "height": 34
        },
        "outputId": "17fd3c58-34f2-44e0-eccf-21b06497962c"
      },
      "source": [
        "first_name"
      ],
      "execution_count": null,
      "outputs": [
        {
          "output_type": "display_data",
          "data": {
            "text/plain": [
              "[1] \"ㄆㄐㄏ\""
            ],
            "text/latex": "'ㄆㄐㄏ'",
            "text/markdown": "'ㄆㄐㄏ'",
            "text/html": [
              "'ㄆㄐㄏ'"
            ]
          },
          "metadata": {
            "tags": []
          }
        }
      ]
    },
    {
      "cell_type": "code",
      "metadata": {
        "id": "sifdOtrhb-7u",
        "colab_type": "code",
        "colab": {
          "base_uri": "https://localhost:8080/",
          "height": 34
        },
        "outputId": "cdd99d1e-a15b-4f60-98a0-68e2f9d621a0"
      },
      "source": [
        "paste0(\"我是\",first_name,\"，我的身高是\",my_H,\"米\",\"，我的體重是\",my_W,\"公斤\")"
      ],
      "execution_count": null,
      "outputs": [
        {
          "output_type": "display_data",
          "data": {
            "text/plain": [
              "[1] \"我是ㄆㄐㄏ，我的身高是1.86米，我的體重是65公斤\""
            ],
            "text/latex": "'我是ㄆㄐㄏ，我的身高是1.86米，我的體重是65公斤'",
            "text/markdown": "'我是ㄆㄐㄏ，我的身高是1.86米，我的體重是65公斤'",
            "text/html": [
              "'我是ㄆㄐㄏ，我的身高是1.86米，我的體重是65公斤'"
            ]
          },
          "metadata": {
            "tags": []
          }
        }
      ]
    }
  ]
}