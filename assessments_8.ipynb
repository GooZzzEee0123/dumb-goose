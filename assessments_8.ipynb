{
  "nbformat": 4,
  "nbformat_minor": 0,
  "metadata": {
    "colab": {
      "name": "assessments-8.ipynb",
      "provenance": [],
      "collapsed_sections": [],
      "include_colab_link": true
    },
    "kernelspec": {
      "name": "ir",
      "display_name": "R"
    }
  },
  "cells": [
    {
      "cell_type": "markdown",
      "metadata": {
        "id": "view-in-github",
        "colab_type": "text"
      },
      "source": [
        "<a href=\"https://colab.research.google.com/github/GooZzzEee0123/dumb-goose/blob/master/assessments_8.ipynb\" target=\"_parent\"><img src=\"https://colab.research.google.com/assets/colab-badge.svg\" alt=\"Open In Colab\"/></a>"
      ]
    },
    {
      "cell_type": "code",
      "metadata": {
        "id": "b7SWhGOkUE5Y",
        "outputId": "de3cb095-427b-4870-a6f5-fbbcfea6d92d",
        "colab": {
          "base_uri": "https://localhost:8080/"
        }
      },
      "source": [
        "install.packages(\"rJava\")\n",
        "install.packages(\"jiebaR\")\n",
        "install.packages(\"tmcn\")\n",
        "install.packages(\"dplyr\")\n",
        "install.packages(\"lubridate\")\n",
        "install.packages(\"stringr\")\n",
        "install.packages(\"wordcloud\")\n",
        "install.packages(\"Rwordseg\",repos=\"http://R-Forge.R-project.org\")"
      ],
      "execution_count": 6,
      "outputs": [
        {
          "output_type": "stream",
          "text": [
            "Installing package into ‘/usr/local/lib/R/site-library’\n",
            "(as ‘lib’ is unspecified)\n",
            "\n",
            "Installing package into ‘/usr/local/lib/R/site-library’\n",
            "(as ‘lib’ is unspecified)\n",
            "\n",
            "also installing the dependency ‘jiebaRD’\n",
            "\n",
            "\n",
            "Installing package into ‘/usr/local/lib/R/site-library’\n",
            "(as ‘lib’ is unspecified)\n",
            "\n",
            "Installing package into ‘/usr/local/lib/R/site-library’\n",
            "(as ‘lib’ is unspecified)\n",
            "\n",
            "Installing package into ‘/usr/local/lib/R/site-library’\n",
            "(as ‘lib’ is unspecified)\n",
            "\n",
            "Installing package into ‘/usr/local/lib/R/site-library’\n",
            "(as ‘lib’ is unspecified)\n",
            "\n",
            "Installing package into ‘/usr/local/lib/R/site-library’\n",
            "(as ‘lib’ is unspecified)\n",
            "\n",
            "Installing package into ‘/usr/local/lib/R/site-library’\n",
            "(as ‘lib’ is unspecified)\n",
            "\n",
            "Warning message:\n",
            "“dependency ‘HMM’ is not available”\n",
            "Warning message in install.packages(\"Rwordseg\", repos = \"http://R-Forge.R-project.org\"):\n",
            "“installation of package ‘Rwordseg’ had non-zero exit status”\n"
          ],
          "name": "stderr"
        }
      ]
    },
    {
      "cell_type": "code",
      "metadata": {
        "id": "XRjh-XKDeIAy",
        "outputId": "8432fa1e-3559-4e00-9584-43aa209928ba",
        "colab": {
          "base_uri": "https://localhost:8080/"
        }
      },
      "source": [
        "library(dplyr)\n",
        "library(lubridate)\n",
        "library(stringr)\n",
        "library(jiebaR)\n",
        "library(wordcloud)"
      ],
      "execution_count": 7,
      "outputs": [
        {
          "output_type": "stream",
          "text": [
            "Loading required package: jiebaRD\n",
            "\n",
            "Loading required package: RColorBrewer\n",
            "\n"
          ],
          "name": "stderr"
        }
      ]
    },
    {
      "cell_type": "code",
      "metadata": {
        "id": "7BnwOu46e1qH"
      },
      "source": [
        "content<-\"由任天堂與 Cygames 共同開發製作的 RPG 手機遊戲 《Dragalia Lost ～失落的龍絆～》於近日釋出一系列 11 月份的情報，感興趣的玩家不妨參考以下資訊。「失落龍絆日」及設施活動「歌劇院的怪盜」官方表示，為了回饋玩家們的熱情支持，二週年活動的重頭戲之一「每日 1 次免費 10 連召喚活動」的活動期間已延長。目前舉辦中的「失落龍絆日」期間也可以進行每日 1 次免費的「10 連召喚」。本次的「失落龍絆日」中，水屬性「龍絆日 Ver.」龍族「波塞頓‧勇（龍絆日 Ver.）」將首度登場，主線劇情第 16章 中有提及「波塞頓‧勇（龍絆日 Ver.）」的誕生故事。另外，水屬性第一位持銃角色「拉碧絲」為目前的精選對象，其為第一位可透過爆發攻擊連續射擊的機關銃模式的角色。「拉碧絲」所登場的設施活動「歌劇院的怪盜」也同時舉辦中，活動中可獲得能夠強化持「銃」和持「弓」角色的設施。本次也依照活動的主題製作了活動主題曲，是有別於過去的歌劇風格曲風，並由「拉碧絲」和「卡麗娜」本人親自演唱。\"\n",
        "\n",
        "cutter<-worker(bylines=F)"
      ],
      "execution_count": 8,
      "outputs": []
    },
    {
      "cell_type": "code",
      "metadata": {
        "id": "FIO2PEtEe1uE",
        "outputId": "862ec1aa-c01e-4cad-d084-db0d347bfeb7",
        "colab": {
          "base_uri": "https://localhost:8080/",
          "height": 204
        }
      },
      "source": [
        "cutter[content]"
      ],
      "execution_count": 11,
      "outputs": [
        {
          "output_type": "display_data",
          "data": {
            "text/plain": [
              "  [1] \"由\"         \"任天堂\"     \"與\"         \"Cygames\"    \"共同開發\"  \n",
              "  [6] \"製作\"       \"的\"         \"RPG\"        \"手機遊戲\"   \"Dragalia\"  \n",
              " [11] \"Lost\"       \"失落的龍絆\" \"於\"         \"近日\"       \"釋出\"      \n",
              " [16] \"一系列\"     \"11\"         \"月份\"       \"的\"         \"情報\"      \n",
              " [21] \"感興趣\"     \"的\"         \"玩家\"       \"不妨\"       \"參考\"      \n",
              " [26] \"以下\"       \"資訊\"       \"失落龍絆日\" \"及\"         \"設施\"      \n",
              " [31] \"活動\"       \"歌劇院\"     \"的\"         \"怪盜\"       \"官方\"      \n",
              " [36] \"表示\"       \"為\"         \"了\"         \"回饋\"       \"玩家\"      \n",
              " [41] \"們\"         \"的\"         \"熱情\"       \"支持\"       \"二\"        \n",
              " [46] \"週年\"       \"活動\"       \"的\"         \"重頭戲\"     \"之一\"      \n",
              " [51] \"每日\"       \"1\"          \"次\"         \"免費\"       \"10\"        \n",
              " [56] \"連\"         \"召喚\"       \"活動\"       \"的\"         \"活動\"      \n",
              " [61] \"期間\"       \"已\"         \"延長\"       \"目前\"       \"舉辦\"      \n",
              " [66] \"中的\"       \"失落龍絆日\" \"期間\"       \"也\"         \"可以\"      \n",
              " [71] \"進行\"       \"每日\"       \"1\"          \"次\"         \"免費\"      \n",
              " [76] \"的\"         \"10\"         \"連\"         \"召喚\"       \"本次\"      \n",
              " [81] \"的\"         \"失落龍絆日\" \"中\"         \"水\"         \"屬性\"      \n",
              " [86] \"龍絆日\"     \"Ver\"        \"龍族\"       \"波塞\"       \"頓\"        \n",
              " [91] \"勇\"         \"龍絆日\"     \"Ver\"        \"將\"         \"首度\"      \n",
              " [96] \"登場\"       \"主線\"       \"劇情\"       \"第\"         \"16\"        \n",
              "[101] \"章\"         \"中有\"       \"提及\"       \"波塞\"       \"頓\"        \n",
              "[106] \"勇\"         \"龍絆日\"     \"Ver\"        \"的\"         \"誕生\"      \n",
              "[111] \"故事\"       \"另外\"       \"水\"         \"屬性\"       \"第一位\"    \n",
              "[116] \"持銃\"       \"角色\"       \"拉碧絲\"     \"為\"         \"目前\"      \n",
              "[121] \"的\"         \"精選\"       \"對象\"       \"其為\"       \"第一位\"    \n",
              "[126] \"可\"         \"透過\"       \"爆發\"       \"攻擊\"       \"連續\"      \n",
              "[131] \"射擊\"       \"的\"         \"機關\"       \"銃\"         \"模式\"      \n",
              "[136] \"的\"         \"角色\"       \"拉碧絲\"     \"所\"         \"登場\"      \n",
              "[141] \"的\"         \"設施\"       \"活動\"       \"歌劇院\"     \"的\"        \n",
              "[146] \"怪盜\"       \"也\"         \"同時\"       \"舉辦\"       \"中\"        \n",
              "[151] \"活動\"       \"中\"         \"可\"         \"獲得\"       \"能夠\"      \n",
              "[156] \"強化\"       \"持\"         \"銃\"         \"和\"         \"持\"        \n",
              "[161] \"弓\"         \"角色\"       \"的\"         \"設施\"       \"本次\"      \n",
              "[166] \"也\"         \"依照\"       \"活動\"       \"的\"         \"主題\"      \n",
              "[171] \"製作\"       \"了\"         \"活動\"       \"主題曲\"     \"是\"        \n",
              "[176] \"有別於\"     \"過去\"       \"的\"         \"歌劇\"       \"風格\"      \n",
              "[181] \"曲風\"       \"並由\"       \"拉碧絲\"     \"和\"         \"卡麗娜\"    \n",
              "[186] \"本人\"       \"親自\"       \"演唱\"      "
            ],
            "text/latex": "\\begin{enumerate*}\n\\item '由'\n\\item '任天堂'\n\\item '與'\n\\item 'Cygames'\n\\item '共同開發'\n\\item '製作'\n\\item '的'\n\\item 'RPG'\n\\item '手機遊戲'\n\\item 'Dragalia'\n\\item 'Lost'\n\\item '失落的龍絆'\n\\item '於'\n\\item '近日'\n\\item '釋出'\n\\item '一系列'\n\\item '11'\n\\item '月份'\n\\item '的'\n\\item '情報'\n\\item '感興趣'\n\\item '的'\n\\item '玩家'\n\\item '不妨'\n\\item '參考'\n\\item '以下'\n\\item '資訊'\n\\item '失落龍絆日'\n\\item '及'\n\\item '設施'\n\\item '活動'\n\\item '歌劇院'\n\\item '的'\n\\item '怪盜'\n\\item '官方'\n\\item '表示'\n\\item '為'\n\\item '了'\n\\item '回饋'\n\\item '玩家'\n\\item '們'\n\\item '的'\n\\item '熱情'\n\\item '支持'\n\\item '二'\n\\item '週年'\n\\item '活動'\n\\item '的'\n\\item '重頭戲'\n\\item '之一'\n\\item '每日'\n\\item '1'\n\\item '次'\n\\item '免費'\n\\item '10'\n\\item '連'\n\\item '召喚'\n\\item '活動'\n\\item '的'\n\\item '活動'\n\\item '期間'\n\\item '已'\n\\item '延長'\n\\item '目前'\n\\item '舉辦'\n\\item '中的'\n\\item '失落龍絆日'\n\\item '期間'\n\\item '也'\n\\item '可以'\n\\item '進行'\n\\item '每日'\n\\item '1'\n\\item '次'\n\\item '免費'\n\\item '的'\n\\item '10'\n\\item '連'\n\\item '召喚'\n\\item '本次'\n\\item '的'\n\\item '失落龍絆日'\n\\item '中'\n\\item '水'\n\\item '屬性'\n\\item '龍絆日'\n\\item 'Ver'\n\\item '龍族'\n\\item '波塞'\n\\item '頓'\n\\item '勇'\n\\item '龍絆日'\n\\item 'Ver'\n\\item '將'\n\\item '首度'\n\\item '登場'\n\\item '主線'\n\\item '劇情'\n\\item '第'\n\\item '16'\n\\item '章'\n\\item '中有'\n\\item '提及'\n\\item '波塞'\n\\item '頓'\n\\item '勇'\n\\item '龍絆日'\n\\item 'Ver'\n\\item '的'\n\\item '誕生'\n\\item '故事'\n\\item '另外'\n\\item '水'\n\\item '屬性'\n\\item '第一位'\n\\item '持銃'\n\\item '角色'\n\\item '拉碧絲'\n\\item '為'\n\\item '目前'\n\\item '的'\n\\item '精選'\n\\item '對象'\n\\item '其為'\n\\item '第一位'\n\\item '可'\n\\item '透過'\n\\item '爆發'\n\\item '攻擊'\n\\item '連續'\n\\item '射擊'\n\\item '的'\n\\item '機關'\n\\item '銃'\n\\item '模式'\n\\item '的'\n\\item '角色'\n\\item '拉碧絲'\n\\item '所'\n\\item '登場'\n\\item '的'\n\\item '設施'\n\\item '活動'\n\\item '歌劇院'\n\\item '的'\n\\item '怪盜'\n\\item '也'\n\\item '同時'\n\\item '舉辦'\n\\item '中'\n\\item '活動'\n\\item '中'\n\\item '可'\n\\item '獲得'\n\\item '能夠'\n\\item '強化'\n\\item '持'\n\\item '銃'\n\\item '和'\n\\item '持'\n\\item '弓'\n\\item '角色'\n\\item '的'\n\\item '設施'\n\\item '本次'\n\\item '也'\n\\item '依照'\n\\item '活動'\n\\item '的'\n\\item '主題'\n\\item '製作'\n\\item '了'\n\\item '活動'\n\\item '主題曲'\n\\item '是'\n\\item '有別於'\n\\item '過去'\n\\item '的'\n\\item '歌劇'\n\\item '風格'\n\\item '曲風'\n\\item '並由'\n\\item '拉碧絲'\n\\item '和'\n\\item '卡麗娜'\n\\item '本人'\n\\item '親自'\n\\item '演唱'\n\\end{enumerate*}\n",
            "text/markdown": "1. '由'\n2. '任天堂'\n3. '與'\n4. 'Cygames'\n5. '共同開發'\n6. '製作'\n7. '的'\n8. 'RPG'\n9. '手機遊戲'\n10. 'Dragalia'\n11. 'Lost'\n12. '失落的龍絆'\n13. '於'\n14. '近日'\n15. '釋出'\n16. '一系列'\n17. '11'\n18. '月份'\n19. '的'\n20. '情報'\n21. '感興趣'\n22. '的'\n23. '玩家'\n24. '不妨'\n25. '參考'\n26. '以下'\n27. '資訊'\n28. '失落龍絆日'\n29. '及'\n30. '設施'\n31. '活動'\n32. '歌劇院'\n33. '的'\n34. '怪盜'\n35. '官方'\n36. '表示'\n37. '為'\n38. '了'\n39. '回饋'\n40. '玩家'\n41. '們'\n42. '的'\n43. '熱情'\n44. '支持'\n45. '二'\n46. '週年'\n47. '活動'\n48. '的'\n49. '重頭戲'\n50. '之一'\n51. '每日'\n52. '1'\n53. '次'\n54. '免費'\n55. '10'\n56. '連'\n57. '召喚'\n58. '活動'\n59. '的'\n60. '活動'\n61. '期間'\n62. '已'\n63. '延長'\n64. '目前'\n65. '舉辦'\n66. '中的'\n67. '失落龍絆日'\n68. '期間'\n69. '也'\n70. '可以'\n71. '進行'\n72. '每日'\n73. '1'\n74. '次'\n75. '免費'\n76. '的'\n77. '10'\n78. '連'\n79. '召喚'\n80. '本次'\n81. '的'\n82. '失落龍絆日'\n83. '中'\n84. '水'\n85. '屬性'\n86. '龍絆日'\n87. 'Ver'\n88. '龍族'\n89. '波塞'\n90. '頓'\n91. '勇'\n92. '龍絆日'\n93. 'Ver'\n94. '將'\n95. '首度'\n96. '登場'\n97. '主線'\n98. '劇情'\n99. '第'\n100. '16'\n101. '章'\n102. '中有'\n103. '提及'\n104. '波塞'\n105. '頓'\n106. '勇'\n107. '龍絆日'\n108. 'Ver'\n109. '的'\n110. '誕生'\n111. '故事'\n112. '另外'\n113. '水'\n114. '屬性'\n115. '第一位'\n116. '持銃'\n117. '角色'\n118. '拉碧絲'\n119. '為'\n120. '目前'\n121. '的'\n122. '精選'\n123. '對象'\n124. '其為'\n125. '第一位'\n126. '可'\n127. '透過'\n128. '爆發'\n129. '攻擊'\n130. '連續'\n131. '射擊'\n132. '的'\n133. '機關'\n134. '銃'\n135. '模式'\n136. '的'\n137. '角色'\n138. '拉碧絲'\n139. '所'\n140. '登場'\n141. '的'\n142. '設施'\n143. '活動'\n144. '歌劇院'\n145. '的'\n146. '怪盜'\n147. '也'\n148. '同時'\n149. '舉辦'\n150. '中'\n151. '活動'\n152. '中'\n153. '可'\n154. '獲得'\n155. '能夠'\n156. '強化'\n157. '持'\n158. '銃'\n159. '和'\n160. '持'\n161. '弓'\n162. '角色'\n163. '的'\n164. '設施'\n165. '本次'\n166. '也'\n167. '依照'\n168. '活動'\n169. '的'\n170. '主題'\n171. '製作'\n172. '了'\n173. '活動'\n174. '主題曲'\n175. '是'\n176. '有別於'\n177. '過去'\n178. '的'\n179. '歌劇'\n180. '風格'\n181. '曲風'\n182. '並由'\n183. '拉碧絲'\n184. '和'\n185. '卡麗娜'\n186. '本人'\n187. '親自'\n188. '演唱'\n\n\n",
            "text/html": [
              "<style>\n",
              ".list-inline {list-style: none; margin:0; padding: 0}\n",
              ".list-inline>li {display: inline-block}\n",
              ".list-inline>li:not(:last-child)::after {content: \"\\00b7\"; padding: 0 .5ex}\n",
              "</style>\n",
              "<ol class=list-inline><li>'由'</li><li>'任天堂'</li><li>'與'</li><li>'Cygames'</li><li>'共同開發'</li><li>'製作'</li><li>'的'</li><li>'RPG'</li><li>'手機遊戲'</li><li>'Dragalia'</li><li>'Lost'</li><li>'失落的龍絆'</li><li>'於'</li><li>'近日'</li><li>'釋出'</li><li>'一系列'</li><li>'11'</li><li>'月份'</li><li>'的'</li><li>'情報'</li><li>'感興趣'</li><li>'的'</li><li>'玩家'</li><li>'不妨'</li><li>'參考'</li><li>'以下'</li><li>'資訊'</li><li>'失落龍絆日'</li><li>'及'</li><li>'設施'</li><li>'活動'</li><li>'歌劇院'</li><li>'的'</li><li>'怪盜'</li><li>'官方'</li><li>'表示'</li><li>'為'</li><li>'了'</li><li>'回饋'</li><li>'玩家'</li><li>'們'</li><li>'的'</li><li>'熱情'</li><li>'支持'</li><li>'二'</li><li>'週年'</li><li>'活動'</li><li>'的'</li><li>'重頭戲'</li><li>'之一'</li><li>'每日'</li><li>'1'</li><li>'次'</li><li>'免費'</li><li>'10'</li><li>'連'</li><li>'召喚'</li><li>'活動'</li><li>'的'</li><li>'活動'</li><li>'期間'</li><li>'已'</li><li>'延長'</li><li>'目前'</li><li>'舉辦'</li><li>'中的'</li><li>'失落龍絆日'</li><li>'期間'</li><li>'也'</li><li>'可以'</li><li>'進行'</li><li>'每日'</li><li>'1'</li><li>'次'</li><li>'免費'</li><li>'的'</li><li>'10'</li><li>'連'</li><li>'召喚'</li><li>'本次'</li><li>'的'</li><li>'失落龍絆日'</li><li>'中'</li><li>'水'</li><li>'屬性'</li><li>'龍絆日'</li><li>'Ver'</li><li>'龍族'</li><li>'波塞'</li><li>'頓'</li><li>'勇'</li><li>'龍絆日'</li><li>'Ver'</li><li>'將'</li><li>'首度'</li><li>'登場'</li><li>'主線'</li><li>'劇情'</li><li>'第'</li><li>'16'</li><li>'章'</li><li>'中有'</li><li>'提及'</li><li>'波塞'</li><li>'頓'</li><li>'勇'</li><li>'龍絆日'</li><li>'Ver'</li><li>'的'</li><li>'誕生'</li><li>'故事'</li><li>'另外'</li><li>'水'</li><li>'屬性'</li><li>'第一位'</li><li>'持銃'</li><li>'角色'</li><li>'拉碧絲'</li><li>'為'</li><li>'目前'</li><li>'的'</li><li>'精選'</li><li>'對象'</li><li>'其為'</li><li>'第一位'</li><li>'可'</li><li>'透過'</li><li>'爆發'</li><li>'攻擊'</li><li>'連續'</li><li>'射擊'</li><li>'的'</li><li>'機關'</li><li>'銃'</li><li>'模式'</li><li>'的'</li><li>'角色'</li><li>'拉碧絲'</li><li>'所'</li><li>'登場'</li><li>'的'</li><li>'設施'</li><li>'活動'</li><li>'歌劇院'</li><li>'的'</li><li>'怪盜'</li><li>'也'</li><li>'同時'</li><li>'舉辦'</li><li>'中'</li><li>'活動'</li><li>'中'</li><li>'可'</li><li>'獲得'</li><li>'能夠'</li><li>'強化'</li><li>'持'</li><li>'銃'</li><li>'和'</li><li>'持'</li><li>'弓'</li><li>'角色'</li><li>'的'</li><li>'設施'</li><li>'本次'</li><li>'也'</li><li>'依照'</li><li>'活動'</li><li>'的'</li><li>'主題'</li><li>'製作'</li><li>'了'</li><li>'活動'</li><li>'主題曲'</li><li>'是'</li><li>'有別於'</li><li>'過去'</li><li>'的'</li><li>'歌劇'</li><li>'風格'</li><li>'曲風'</li><li>'並由'</li><li>'拉碧絲'</li><li>'和'</li><li>'卡麗娜'</li><li>'本人'</li><li>'親自'</li><li>'演唱'</li></ol>\n"
            ]
          },
          "metadata": {
            "tags": []
          }
        }
      ]
    },
    {
      "cell_type": "code",
      "metadata": {
        "id": "oCg8vbNXfbtR"
      },
      "source": [
        "new_words<-c(\"Dragalia Lost\",\"失落的龍絆\",\"失落龍絆日\",\"龍族\",\"龍絆日\",\"波賽頓勇\",\"拉碧絲\")\n",
        "\n",
        "for(i in 1:length(new_words)){\n",
        "  new_user_word(cutter,new_words[i])\n",
        "}"
      ],
      "execution_count": 12,
      "outputs": []
    },
    {
      "cell_type": "code",
      "metadata": {
        "id": "dh_rG5iFfbwv",
        "outputId": "e281d83f-7544-4f26-e436-95a0c632568d",
        "colab": {
          "base_uri": "https://localhost:8080/",
          "height": 170
        }
      },
      "source": [
        "content<-str_remove_all(content,\"[0-9a-zA-Z]+?\")\n",
        "cutter[content]"
      ],
      "execution_count": 17,
      "outputs": [
        {
          "output_type": "display_data",
          "data": {
            "text/plain": [
              "  [1] \"任天堂\"     \"共同開發\"   \"製作\"       \"手機遊戲\"   \"失落的龍絆\"\n",
              "  [6] \"近日\"       \"釋出\"       \"一系列\"     \"月份\"       \"情報\"      \n",
              " [11] \"感興趣\"     \"玩家\"       \"不妨\"       \"參考\"       \"以下\"      \n",
              " [16] \"資訊\"       \"失落龍絆日\" \"設施\"       \"活動\"       \"歌劇院\"    \n",
              " [21] \"怪盜\"       \"官方\"       \"表示\"       \"為\"         \"了\"        \n",
              " [26] \"回饋\"       \"玩家\"       \"們\"         \"熱情\"       \"支持\"      \n",
              " [31] \"二\"         \"週年\"       \"活動\"       \"重頭戲\"     \"之一\"      \n",
              " [36] \"每日\"       \"次\"         \"免費\"       \"連\"         \"召喚\"      \n",
              " [41] \"活動\"       \"活動\"       \"期間\"       \"已\"         \"延長\"      \n",
              " [46] \"目前\"       \"舉辦\"       \"中的\"       \"失落龍絆日\" \"期間\"      \n",
              " [51] \"可以\"       \"進行\"       \"每日\"       \"次\"         \"免費\"      \n",
              " [56] \"連\"         \"召喚\"       \"本次\"       \"失落龍絆日\" \"水\"        \n",
              " [61] \"屬性\"       \"龍絆日\"     \"龍族\"       \"波塞\"       \"頓\"        \n",
              " [66] \"勇\"         \"龍絆日\"     \"將\"         \"首度\"       \"登場\"      \n",
              " [71] \"主線\"       \"劇情\"       \"第\"         \"章\"         \"中有\"      \n",
              " [76] \"提及\"       \"波塞\"       \"頓\"         \"勇\"         \"龍絆日\"    \n",
              " [81] \"誕生\"       \"故事\"       \"另外\"       \"水\"         \"屬性\"      \n",
              " [86] \"第一位\"     \"持銃\"       \"角色\"       \"拉碧絲\"     \"為\"        \n",
              " [91] \"目前\"       \"精選\"       \"對象\"       \"其為\"       \"第一位\"    \n",
              " [96] \"可\"         \"透過\"       \"爆發\"       \"攻擊\"       \"連續\"      \n",
              "[101] \"射擊\"       \"機關\"       \"銃\"         \"模式\"       \"角色\"      \n",
              "[106] \"拉碧絲\"     \"所\"         \"登場\"       \"設施\"       \"活動\"      \n",
              "[111] \"歌劇院\"     \"怪盜\"       \"同時\"       \"舉辦\"       \"活動\"      \n",
              "[116] \"可\"         \"獲得\"       \"能夠\"       \"強化\"       \"持\"        \n",
              "[121] \"銃\"         \"持\"         \"弓\"         \"角色\"       \"設施\"      \n",
              "[126] \"本次\"       \"依照\"       \"活動\"       \"主題\"       \"製作\"      \n",
              "[131] \"了\"         \"活動\"       \"主題曲\"     \"有別於\"     \"過去\"      \n",
              "[136] \"歌劇\"       \"風格\"       \"曲風\"       \"並由\"       \"拉碧絲\"    \n",
              "[141] \"卡麗娜\"     \"本人\"       \"親自\"       \"演唱\"      "
            ],
            "text/latex": "\\begin{enumerate*}\n\\item '任天堂'\n\\item '共同開發'\n\\item '製作'\n\\item '手機遊戲'\n\\item '失落的龍絆'\n\\item '近日'\n\\item '釋出'\n\\item '一系列'\n\\item '月份'\n\\item '情報'\n\\item '感興趣'\n\\item '玩家'\n\\item '不妨'\n\\item '參考'\n\\item '以下'\n\\item '資訊'\n\\item '失落龍絆日'\n\\item '設施'\n\\item '活動'\n\\item '歌劇院'\n\\item '怪盜'\n\\item '官方'\n\\item '表示'\n\\item '為'\n\\item '了'\n\\item '回饋'\n\\item '玩家'\n\\item '們'\n\\item '熱情'\n\\item '支持'\n\\item '二'\n\\item '週年'\n\\item '活動'\n\\item '重頭戲'\n\\item '之一'\n\\item '每日'\n\\item '次'\n\\item '免費'\n\\item '連'\n\\item '召喚'\n\\item '活動'\n\\item '活動'\n\\item '期間'\n\\item '已'\n\\item '延長'\n\\item '目前'\n\\item '舉辦'\n\\item '中的'\n\\item '失落龍絆日'\n\\item '期間'\n\\item '可以'\n\\item '進行'\n\\item '每日'\n\\item '次'\n\\item '免費'\n\\item '連'\n\\item '召喚'\n\\item '本次'\n\\item '失落龍絆日'\n\\item '水'\n\\item '屬性'\n\\item '龍絆日'\n\\item '龍族'\n\\item '波塞'\n\\item '頓'\n\\item '勇'\n\\item '龍絆日'\n\\item '將'\n\\item '首度'\n\\item '登場'\n\\item '主線'\n\\item '劇情'\n\\item '第'\n\\item '章'\n\\item '中有'\n\\item '提及'\n\\item '波塞'\n\\item '頓'\n\\item '勇'\n\\item '龍絆日'\n\\item '誕生'\n\\item '故事'\n\\item '另外'\n\\item '水'\n\\item '屬性'\n\\item '第一位'\n\\item '持銃'\n\\item '角色'\n\\item '拉碧絲'\n\\item '為'\n\\item '目前'\n\\item '精選'\n\\item '對象'\n\\item '其為'\n\\item '第一位'\n\\item '可'\n\\item '透過'\n\\item '爆發'\n\\item '攻擊'\n\\item '連續'\n\\item '射擊'\n\\item '機關'\n\\item '銃'\n\\item '模式'\n\\item '角色'\n\\item '拉碧絲'\n\\item '所'\n\\item '登場'\n\\item '設施'\n\\item '活動'\n\\item '歌劇院'\n\\item '怪盜'\n\\item '同時'\n\\item '舉辦'\n\\item '活動'\n\\item '可'\n\\item '獲得'\n\\item '能夠'\n\\item '強化'\n\\item '持'\n\\item '銃'\n\\item '持'\n\\item '弓'\n\\item '角色'\n\\item '設施'\n\\item '本次'\n\\item '依照'\n\\item '活動'\n\\item '主題'\n\\item '製作'\n\\item '了'\n\\item '活動'\n\\item '主題曲'\n\\item '有別於'\n\\item '過去'\n\\item '歌劇'\n\\item '風格'\n\\item '曲風'\n\\item '並由'\n\\item '拉碧絲'\n\\item '卡麗娜'\n\\item '本人'\n\\item '親自'\n\\item '演唱'\n\\end{enumerate*}\n",
            "text/markdown": "1. '任天堂'\n2. '共同開發'\n3. '製作'\n4. '手機遊戲'\n5. '失落的龍絆'\n6. '近日'\n7. '釋出'\n8. '一系列'\n9. '月份'\n10. '情報'\n11. '感興趣'\n12. '玩家'\n13. '不妨'\n14. '參考'\n15. '以下'\n16. '資訊'\n17. '失落龍絆日'\n18. '設施'\n19. '活動'\n20. '歌劇院'\n21. '怪盜'\n22. '官方'\n23. '表示'\n24. '為'\n25. '了'\n26. '回饋'\n27. '玩家'\n28. '們'\n29. '熱情'\n30. '支持'\n31. '二'\n32. '週年'\n33. '活動'\n34. '重頭戲'\n35. '之一'\n36. '每日'\n37. '次'\n38. '免費'\n39. '連'\n40. '召喚'\n41. '活動'\n42. '活動'\n43. '期間'\n44. '已'\n45. '延長'\n46. '目前'\n47. '舉辦'\n48. '中的'\n49. '失落龍絆日'\n50. '期間'\n51. '可以'\n52. '進行'\n53. '每日'\n54. '次'\n55. '免費'\n56. '連'\n57. '召喚'\n58. '本次'\n59. '失落龍絆日'\n60. '水'\n61. '屬性'\n62. '龍絆日'\n63. '龍族'\n64. '波塞'\n65. '頓'\n66. '勇'\n67. '龍絆日'\n68. '將'\n69. '首度'\n70. '登場'\n71. '主線'\n72. '劇情'\n73. '第'\n74. '章'\n75. '中有'\n76. '提及'\n77. '波塞'\n78. '頓'\n79. '勇'\n80. '龍絆日'\n81. '誕生'\n82. '故事'\n83. '另外'\n84. '水'\n85. '屬性'\n86. '第一位'\n87. '持銃'\n88. '角色'\n89. '拉碧絲'\n90. '為'\n91. '目前'\n92. '精選'\n93. '對象'\n94. '其為'\n95. '第一位'\n96. '可'\n97. '透過'\n98. '爆發'\n99. '攻擊'\n100. '連續'\n101. '射擊'\n102. '機關'\n103. '銃'\n104. '模式'\n105. '角色'\n106. '拉碧絲'\n107. '所'\n108. '登場'\n109. '設施'\n110. '活動'\n111. '歌劇院'\n112. '怪盜'\n113. '同時'\n114. '舉辦'\n115. '活動'\n116. '可'\n117. '獲得'\n118. '能夠'\n119. '強化'\n120. '持'\n121. '銃'\n122. '持'\n123. '弓'\n124. '角色'\n125. '設施'\n126. '本次'\n127. '依照'\n128. '活動'\n129. '主題'\n130. '製作'\n131. '了'\n132. '活動'\n133. '主題曲'\n134. '有別於'\n135. '過去'\n136. '歌劇'\n137. '風格'\n138. '曲風'\n139. '並由'\n140. '拉碧絲'\n141. '卡麗娜'\n142. '本人'\n143. '親自'\n144. '演唱'\n\n\n",
            "text/html": [
              "<style>\n",
              ".list-inline {list-style: none; margin:0; padding: 0}\n",
              ".list-inline>li {display: inline-block}\n",
              ".list-inline>li:not(:last-child)::after {content: \"\\00b7\"; padding: 0 .5ex}\n",
              "</style>\n",
              "<ol class=list-inline><li>'任天堂'</li><li>'共同開發'</li><li>'製作'</li><li>'手機遊戲'</li><li>'失落的龍絆'</li><li>'近日'</li><li>'釋出'</li><li>'一系列'</li><li>'月份'</li><li>'情報'</li><li>'感興趣'</li><li>'玩家'</li><li>'不妨'</li><li>'參考'</li><li>'以下'</li><li>'資訊'</li><li>'失落龍絆日'</li><li>'設施'</li><li>'活動'</li><li>'歌劇院'</li><li>'怪盜'</li><li>'官方'</li><li>'表示'</li><li>'為'</li><li>'了'</li><li>'回饋'</li><li>'玩家'</li><li>'們'</li><li>'熱情'</li><li>'支持'</li><li>'二'</li><li>'週年'</li><li>'活動'</li><li>'重頭戲'</li><li>'之一'</li><li>'每日'</li><li>'次'</li><li>'免費'</li><li>'連'</li><li>'召喚'</li><li>'活動'</li><li>'活動'</li><li>'期間'</li><li>'已'</li><li>'延長'</li><li>'目前'</li><li>'舉辦'</li><li>'中的'</li><li>'失落龍絆日'</li><li>'期間'</li><li>'可以'</li><li>'進行'</li><li>'每日'</li><li>'次'</li><li>'免費'</li><li>'連'</li><li>'召喚'</li><li>'本次'</li><li>'失落龍絆日'</li><li>'水'</li><li>'屬性'</li><li>'龍絆日'</li><li>'龍族'</li><li>'波塞'</li><li>'頓'</li><li>'勇'</li><li>'龍絆日'</li><li>'將'</li><li>'首度'</li><li>'登場'</li><li>'主線'</li><li>'劇情'</li><li>'第'</li><li>'章'</li><li>'中有'</li><li>'提及'</li><li>'波塞'</li><li>'頓'</li><li>'勇'</li><li>'龍絆日'</li><li>'誕生'</li><li>'故事'</li><li>'另外'</li><li>'水'</li><li>'屬性'</li><li>'第一位'</li><li>'持銃'</li><li>'角色'</li><li>'拉碧絲'</li><li>'為'</li><li>'目前'</li><li>'精選'</li><li>'對象'</li><li>'其為'</li><li>'第一位'</li><li>'可'</li><li>'透過'</li><li>'爆發'</li><li>'攻擊'</li><li>'連續'</li><li>'射擊'</li><li>'機關'</li><li>'銃'</li><li>'模式'</li><li>'角色'</li><li>'拉碧絲'</li><li>'所'</li><li>'登場'</li><li>'設施'</li><li>'活動'</li><li>'歌劇院'</li><li>'怪盜'</li><li>'同時'</li><li>'舉辦'</li><li>'活動'</li><li>'可'</li><li>'獲得'</li><li>'能夠'</li><li>'強化'</li><li>'持'</li><li>'銃'</li><li>'持'</li><li>'弓'</li><li>'角色'</li><li>'設施'</li><li>'本次'</li><li>'依照'</li><li>'活動'</li><li>'主題'</li><li>'製作'</li><li>'了'</li><li>'活動'</li><li>'主題曲'</li><li>'有別於'</li><li>'過去'</li><li>'歌劇'</li><li>'風格'</li><li>'曲風'</li><li>'並由'</li><li>'拉碧絲'</li><li>'卡麗娜'</li><li>'本人'</li><li>'親自'</li><li>'演唱'</li></ol>\n"
            ]
          },
          "metadata": {
            "tags": []
          }
        }
      ]
    },
    {
      "cell_type": "code",
      "metadata": {
        "id": "2MgaNaSIhUZ_"
      },
      "source": [
        "new_words<-c(\"Dragalia Lost\",\"失落的龍絆\",\"失落龍絆日\",\"龍族\",\"龍絆日\",\"波賽頓勇\",\"拉碧絲\")\n",
        "writeLines(new_words,\"new_words.txt\")"
      ],
      "execution_count": 14,
      "outputs": []
    },
    {
      "cell_type": "code",
      "metadata": {
        "id": "mwSr1JuJhUc1"
      },
      "source": [
        "stop_words<-c(\"由\",\"於\",\"更\",\"也\",\"個\",\"未\",\"而\",\"與\",\"的\",\"及\",\"和\",\"中\",\"是\")\n",
        "writeLines(stop_words,\"stop_words.txt\")"
      ],
      "execution_count": 15,
      "outputs": []
    },
    {
      "cell_type": "code",
      "metadata": {
        "id": "1jXIRsLJiwVj",
        "outputId": "1554acba-db04-45c1-822e-b310a2586778",
        "colab": {
          "base_uri": "https://localhost:8080/",
          "height": 170
        }
      },
      "source": [
        "cutter<-worker(user=\"new_words.txt\",stop_word = \"stop_words.txt\",\n",
        "bylines=FALSE)\n",
        "seg_words<-cutter[content]\n",
        "seg_words"
      ],
      "execution_count": 16,
      "outputs": [
        {
          "output_type": "display_data",
          "data": {
            "text/plain": [
              "  [1] \"任天堂\"     \"共同開發\"   \"製作\"       \"手機遊戲\"   \"失落的龍絆\"\n",
              "  [6] \"近日\"       \"釋出\"       \"一系列\"     \"月份\"       \"情報\"      \n",
              " [11] \"感興趣\"     \"玩家\"       \"不妨\"       \"參考\"       \"以下\"      \n",
              " [16] \"資訊\"       \"失落龍絆日\" \"設施\"       \"活動\"       \"歌劇院\"    \n",
              " [21] \"怪盜\"       \"官方\"       \"表示\"       \"為\"         \"了\"        \n",
              " [26] \"回饋\"       \"玩家\"       \"們\"         \"熱情\"       \"支持\"      \n",
              " [31] \"二\"         \"週年\"       \"活動\"       \"重頭戲\"     \"之一\"      \n",
              " [36] \"每日\"       \"次\"         \"免費\"       \"連\"         \"召喚\"      \n",
              " [41] \"活動\"       \"活動\"       \"期間\"       \"已\"         \"延長\"      \n",
              " [46] \"目前\"       \"舉辦\"       \"中的\"       \"失落龍絆日\" \"期間\"      \n",
              " [51] \"可以\"       \"進行\"       \"每日\"       \"次\"         \"免費\"      \n",
              " [56] \"連\"         \"召喚\"       \"本次\"       \"失落龍絆日\" \"水\"        \n",
              " [61] \"屬性\"       \"龍絆日\"     \"龍族\"       \"波塞\"       \"頓\"        \n",
              " [66] \"勇\"         \"龍絆日\"     \"將\"         \"首度\"       \"登場\"      \n",
              " [71] \"主線\"       \"劇情\"       \"第\"         \"章\"         \"中有\"      \n",
              " [76] \"提及\"       \"波塞\"       \"頓\"         \"勇\"         \"龍絆日\"    \n",
              " [81] \"誕生\"       \"故事\"       \"另外\"       \"水\"         \"屬性\"      \n",
              " [86] \"第一位\"     \"持銃\"       \"角色\"       \"拉碧絲\"     \"為\"        \n",
              " [91] \"目前\"       \"精選\"       \"對象\"       \"其為\"       \"第一位\"    \n",
              " [96] \"可\"         \"透過\"       \"爆發\"       \"攻擊\"       \"連續\"      \n",
              "[101] \"射擊\"       \"機關\"       \"銃\"         \"模式\"       \"角色\"      \n",
              "[106] \"拉碧絲\"     \"所\"         \"登場\"       \"設施\"       \"活動\"      \n",
              "[111] \"歌劇院\"     \"怪盜\"       \"同時\"       \"舉辦\"       \"活動\"      \n",
              "[116] \"可\"         \"獲得\"       \"能夠\"       \"強化\"       \"持\"        \n",
              "[121] \"銃\"         \"持\"         \"弓\"         \"角色\"       \"設施\"      \n",
              "[126] \"本次\"       \"依照\"       \"活動\"       \"主題\"       \"製作\"      \n",
              "[131] \"了\"         \"活動\"       \"主題曲\"     \"有別於\"     \"過去\"      \n",
              "[136] \"歌劇\"       \"風格\"       \"曲風\"       \"並由\"       \"拉碧絲\"    \n",
              "[141] \"卡麗娜\"     \"本人\"       \"親自\"       \"演唱\"      "
            ],
            "text/latex": "\\begin{enumerate*}\n\\item '任天堂'\n\\item '共同開發'\n\\item '製作'\n\\item '手機遊戲'\n\\item '失落的龍絆'\n\\item '近日'\n\\item '釋出'\n\\item '一系列'\n\\item '月份'\n\\item '情報'\n\\item '感興趣'\n\\item '玩家'\n\\item '不妨'\n\\item '參考'\n\\item '以下'\n\\item '資訊'\n\\item '失落龍絆日'\n\\item '設施'\n\\item '活動'\n\\item '歌劇院'\n\\item '怪盜'\n\\item '官方'\n\\item '表示'\n\\item '為'\n\\item '了'\n\\item '回饋'\n\\item '玩家'\n\\item '們'\n\\item '熱情'\n\\item '支持'\n\\item '二'\n\\item '週年'\n\\item '活動'\n\\item '重頭戲'\n\\item '之一'\n\\item '每日'\n\\item '次'\n\\item '免費'\n\\item '連'\n\\item '召喚'\n\\item '活動'\n\\item '活動'\n\\item '期間'\n\\item '已'\n\\item '延長'\n\\item '目前'\n\\item '舉辦'\n\\item '中的'\n\\item '失落龍絆日'\n\\item '期間'\n\\item '可以'\n\\item '進行'\n\\item '每日'\n\\item '次'\n\\item '免費'\n\\item '連'\n\\item '召喚'\n\\item '本次'\n\\item '失落龍絆日'\n\\item '水'\n\\item '屬性'\n\\item '龍絆日'\n\\item '龍族'\n\\item '波塞'\n\\item '頓'\n\\item '勇'\n\\item '龍絆日'\n\\item '將'\n\\item '首度'\n\\item '登場'\n\\item '主線'\n\\item '劇情'\n\\item '第'\n\\item '章'\n\\item '中有'\n\\item '提及'\n\\item '波塞'\n\\item '頓'\n\\item '勇'\n\\item '龍絆日'\n\\item '誕生'\n\\item '故事'\n\\item '另外'\n\\item '水'\n\\item '屬性'\n\\item '第一位'\n\\item '持銃'\n\\item '角色'\n\\item '拉碧絲'\n\\item '為'\n\\item '目前'\n\\item '精選'\n\\item '對象'\n\\item '其為'\n\\item '第一位'\n\\item '可'\n\\item '透過'\n\\item '爆發'\n\\item '攻擊'\n\\item '連續'\n\\item '射擊'\n\\item '機關'\n\\item '銃'\n\\item '模式'\n\\item '角色'\n\\item '拉碧絲'\n\\item '所'\n\\item '登場'\n\\item '設施'\n\\item '活動'\n\\item '歌劇院'\n\\item '怪盜'\n\\item '同時'\n\\item '舉辦'\n\\item '活動'\n\\item '可'\n\\item '獲得'\n\\item '能夠'\n\\item '強化'\n\\item '持'\n\\item '銃'\n\\item '持'\n\\item '弓'\n\\item '角色'\n\\item '設施'\n\\item '本次'\n\\item '依照'\n\\item '活動'\n\\item '主題'\n\\item '製作'\n\\item '了'\n\\item '活動'\n\\item '主題曲'\n\\item '有別於'\n\\item '過去'\n\\item '歌劇'\n\\item '風格'\n\\item '曲風'\n\\item '並由'\n\\item '拉碧絲'\n\\item '卡麗娜'\n\\item '本人'\n\\item '親自'\n\\item '演唱'\n\\end{enumerate*}\n",
            "text/markdown": "1. '任天堂'\n2. '共同開發'\n3. '製作'\n4. '手機遊戲'\n5. '失落的龍絆'\n6. '近日'\n7. '釋出'\n8. '一系列'\n9. '月份'\n10. '情報'\n11. '感興趣'\n12. '玩家'\n13. '不妨'\n14. '參考'\n15. '以下'\n16. '資訊'\n17. '失落龍絆日'\n18. '設施'\n19. '活動'\n20. '歌劇院'\n21. '怪盜'\n22. '官方'\n23. '表示'\n24. '為'\n25. '了'\n26. '回饋'\n27. '玩家'\n28. '們'\n29. '熱情'\n30. '支持'\n31. '二'\n32. '週年'\n33. '活動'\n34. '重頭戲'\n35. '之一'\n36. '每日'\n37. '次'\n38. '免費'\n39. '連'\n40. '召喚'\n41. '活動'\n42. '活動'\n43. '期間'\n44. '已'\n45. '延長'\n46. '目前'\n47. '舉辦'\n48. '中的'\n49. '失落龍絆日'\n50. '期間'\n51. '可以'\n52. '進行'\n53. '每日'\n54. '次'\n55. '免費'\n56. '連'\n57. '召喚'\n58. '本次'\n59. '失落龍絆日'\n60. '水'\n61. '屬性'\n62. '龍絆日'\n63. '龍族'\n64. '波塞'\n65. '頓'\n66. '勇'\n67. '龍絆日'\n68. '將'\n69. '首度'\n70. '登場'\n71. '主線'\n72. '劇情'\n73. '第'\n74. '章'\n75. '中有'\n76. '提及'\n77. '波塞'\n78. '頓'\n79. '勇'\n80. '龍絆日'\n81. '誕生'\n82. '故事'\n83. '另外'\n84. '水'\n85. '屬性'\n86. '第一位'\n87. '持銃'\n88. '角色'\n89. '拉碧絲'\n90. '為'\n91. '目前'\n92. '精選'\n93. '對象'\n94. '其為'\n95. '第一位'\n96. '可'\n97. '透過'\n98. '爆發'\n99. '攻擊'\n100. '連續'\n101. '射擊'\n102. '機關'\n103. '銃'\n104. '模式'\n105. '角色'\n106. '拉碧絲'\n107. '所'\n108. '登場'\n109. '設施'\n110. '活動'\n111. '歌劇院'\n112. '怪盜'\n113. '同時'\n114. '舉辦'\n115. '活動'\n116. '可'\n117. '獲得'\n118. '能夠'\n119. '強化'\n120. '持'\n121. '銃'\n122. '持'\n123. '弓'\n124. '角色'\n125. '設施'\n126. '本次'\n127. '依照'\n128. '活動'\n129. '主題'\n130. '製作'\n131. '了'\n132. '活動'\n133. '主題曲'\n134. '有別於'\n135. '過去'\n136. '歌劇'\n137. '風格'\n138. '曲風'\n139. '並由'\n140. '拉碧絲'\n141. '卡麗娜'\n142. '本人'\n143. '親自'\n144. '演唱'\n\n\n",
            "text/html": [
              "<style>\n",
              ".list-inline {list-style: none; margin:0; padding: 0}\n",
              ".list-inline>li {display: inline-block}\n",
              ".list-inline>li:not(:last-child)::after {content: \"\\00b7\"; padding: 0 .5ex}\n",
              "</style>\n",
              "<ol class=list-inline><li>'任天堂'</li><li>'共同開發'</li><li>'製作'</li><li>'手機遊戲'</li><li>'失落的龍絆'</li><li>'近日'</li><li>'釋出'</li><li>'一系列'</li><li>'月份'</li><li>'情報'</li><li>'感興趣'</li><li>'玩家'</li><li>'不妨'</li><li>'參考'</li><li>'以下'</li><li>'資訊'</li><li>'失落龍絆日'</li><li>'設施'</li><li>'活動'</li><li>'歌劇院'</li><li>'怪盜'</li><li>'官方'</li><li>'表示'</li><li>'為'</li><li>'了'</li><li>'回饋'</li><li>'玩家'</li><li>'們'</li><li>'熱情'</li><li>'支持'</li><li>'二'</li><li>'週年'</li><li>'活動'</li><li>'重頭戲'</li><li>'之一'</li><li>'每日'</li><li>'次'</li><li>'免費'</li><li>'連'</li><li>'召喚'</li><li>'活動'</li><li>'活動'</li><li>'期間'</li><li>'已'</li><li>'延長'</li><li>'目前'</li><li>'舉辦'</li><li>'中的'</li><li>'失落龍絆日'</li><li>'期間'</li><li>'可以'</li><li>'進行'</li><li>'每日'</li><li>'次'</li><li>'免費'</li><li>'連'</li><li>'召喚'</li><li>'本次'</li><li>'失落龍絆日'</li><li>'水'</li><li>'屬性'</li><li>'龍絆日'</li><li>'龍族'</li><li>'波塞'</li><li>'頓'</li><li>'勇'</li><li>'龍絆日'</li><li>'將'</li><li>'首度'</li><li>'登場'</li><li>'主線'</li><li>'劇情'</li><li>'第'</li><li>'章'</li><li>'中有'</li><li>'提及'</li><li>'波塞'</li><li>'頓'</li><li>'勇'</li><li>'龍絆日'</li><li>'誕生'</li><li>'故事'</li><li>'另外'</li><li>'水'</li><li>'屬性'</li><li>'第一位'</li><li>'持銃'</li><li>'角色'</li><li>'拉碧絲'</li><li>'為'</li><li>'目前'</li><li>'精選'</li><li>'對象'</li><li>'其為'</li><li>'第一位'</li><li>'可'</li><li>'透過'</li><li>'爆發'</li><li>'攻擊'</li><li>'連續'</li><li>'射擊'</li><li>'機關'</li><li>'銃'</li><li>'模式'</li><li>'角色'</li><li>'拉碧絲'</li><li>'所'</li><li>'登場'</li><li>'設施'</li><li>'活動'</li><li>'歌劇院'</li><li>'怪盜'</li><li>'同時'</li><li>'舉辦'</li><li>'活動'</li><li>'可'</li><li>'獲得'</li><li>'能夠'</li><li>'強化'</li><li>'持'</li><li>'銃'</li><li>'持'</li><li>'弓'</li><li>'角色'</li><li>'設施'</li><li>'本次'</li><li>'依照'</li><li>'活動'</li><li>'主題'</li><li>'製作'</li><li>'了'</li><li>'活動'</li><li>'主題曲'</li><li>'有別於'</li><li>'過去'</li><li>'歌劇'</li><li>'風格'</li><li>'曲風'</li><li>'並由'</li><li>'拉碧絲'</li><li>'卡麗娜'</li><li>'本人'</li><li>'親自'</li><li>'演唱'</li></ol>\n"
            ]
          },
          "metadata": {
            "tags": []
          }
        }
      ]
    },
    {
      "cell_type": "code",
      "metadata": {
        "id": "WY7oJJZNjU0C",
        "outputId": "cd74e39b-997a-4fce-cf02-bf8584e9855c",
        "colab": {
          "base_uri": "https://localhost:8080/",
          "height": 204
        }
      },
      "source": [
        "txt_freq<-freq(seg_words)\n",
        "txt_freq<-arrange(txt_freq,desc(freq))\n",
        "head(txt_freq)"
      ],
      "execution_count": 18,
      "outputs": [
        {
          "output_type": "display_data",
          "data": {
            "text/plain": [
              "  char       freq\n",
              "1 活動       8   \n",
              "2 失落龍絆日 3   \n",
              "3 設施       3   \n",
              "4 角色       3   \n",
              "5 龍絆日     3   \n",
              "6 拉碧絲     3   "
            ],
            "text/latex": "A data.frame: 6 × 2\n\\begin{tabular}{r|ll}\n  & char & freq\\\\\n  & <chr> & <dbl>\\\\\n\\hline\n\t1 & 活動       & 8\\\\\n\t2 & 失落龍絆日 & 3\\\\\n\t3 & 設施       & 3\\\\\n\t4 & 角色       & 3\\\\\n\t5 & 龍絆日     & 3\\\\\n\t6 & 拉碧絲     & 3\\\\\n\\end{tabular}\n",
            "text/markdown": "\nA data.frame: 6 × 2\n\n| <!--/--> | char &lt;chr&gt; | freq &lt;dbl&gt; |\n|---|---|---|\n| 1 | 活動       | 8 |\n| 2 | 失落龍絆日 | 3 |\n| 3 | 設施       | 3 |\n| 4 | 角色       | 3 |\n| 5 | 龍絆日     | 3 |\n| 6 | 拉碧絲     | 3 |\n\n",
            "text/html": [
              "<table>\n",
              "<caption>A data.frame: 6 × 2</caption>\n",
              "<thead>\n",
              "\t<tr><th></th><th scope=col>char</th><th scope=col>freq</th></tr>\n",
              "\t<tr><th></th><th scope=col>&lt;chr&gt;</th><th scope=col>&lt;dbl&gt;</th></tr>\n",
              "</thead>\n",
              "<tbody>\n",
              "\t<tr><th scope=row>1</th><td>活動      </td><td>8</td></tr>\n",
              "\t<tr><th scope=row>2</th><td>失落龍絆日</td><td>3</td></tr>\n",
              "\t<tr><th scope=row>3</th><td>設施      </td><td>3</td></tr>\n",
              "\t<tr><th scope=row>4</th><td>角色      </td><td>3</td></tr>\n",
              "\t<tr><th scope=row>5</th><td>龍絆日    </td><td>3</td></tr>\n",
              "\t<tr><th scope=row>6</th><td>拉碧絲    </td><td>3</td></tr>\n",
              "</tbody>\n",
              "</table>\n"
            ]
          },
          "metadata": {
            "tags": []
          }
        }
      ]
    },
    {
      "cell_type": "code",
      "metadata": {
        "id": "vBlx5UB-vZ9p",
        "outputId": "32cd5949-7869-4872-e782-85c468ff20b3",
        "colab": {
          "base_uri": "https://localhost:8080/"
        }
      },
      "source": [
        "install.packages(\"showtext\")"
      ],
      "execution_count": 21,
      "outputs": [
        {
          "output_type": "stream",
          "text": [
            "Installing package into ‘/usr/local/lib/R/site-library’\n",
            "(as ‘lib’ is unspecified)\n",
            "\n",
            "also installing the dependencies ‘sysfonts’, ‘showtextdb’\n",
            "\n",
            "\n"
          ],
          "name": "stderr"
        }
      ]
    },
    {
      "cell_type": "code",
      "metadata": {
        "id": "6WV9By6PvaAf",
        "outputId": "59e81bc4-9509-428a-b5de-20de1eb52cf8",
        "colab": {
          "base_uri": "https://localhost:8080/"
        }
      },
      "source": [
        "library(showtext)"
      ],
      "execution_count": 22,
      "outputs": [
        {
          "output_type": "stream",
          "text": [
            "Loading required package: sysfonts\n",
            "\n",
            "Loading required package: showtextdb\n",
            "\n"
          ],
          "name": "stderr"
        }
      ]
    },
    {
      "cell_type": "code",
      "metadata": {
        "id": "suY8qjOVvjsX"
      },
      "source": [
        "showtext.auto(enable = TRUE)\n",
        "font.add(\"華康少女體\",\"華康少女體.otf\")"
      ],
      "execution_count": null,
      "outputs": []
    },
    {
      "cell_type": "code",
      "metadata": {
        "id": "WEdZ9Q1UjVR6",
        "outputId": "375219fe-353d-4816-ac48-c6490ebea8ac",
        "colab": {
          "base_uri": "https://localhost:8080/",
          "height": 1000
        }
      },
      "source": [
        "par(family=(\"華康少女體\"))\n",
        "\n",
        "wordcloud(txt_freq$char,txt_freq$freq,min.freq = 2,random.order=F,\n",
        "ordered.colors=F,colors=rainbow(nrow(txt_freq)))"
      ],
      "execution_count": 27,
      "outputs": [
        {
          "output_type": "stream",
          "text": [
            "Warning message in strwidth(words[i], cex = size[i], ...):\n",
            "“font family '華康少女體' not found, will use 'wqy-microhei' instead”\n",
            "Warning message in strheight(words[i], cex = size[i], ...):\n",
            "“font family '華康少女體' not found, will use 'sans' instead”\n",
            "Warning message in text.default(x1, y1, words[i], cex = size[i], offset = 0, srt = rotWord * :\n",
            "“font family '華康少女體' not found, will use 'wqy-microhei' instead”\n",
            "Warning message in text.default(x1, y1, words[i], cex = size[i], offset = 0, srt = rotWord * :\n",
            "“font family '華康少女體' not found, will use 'wqy-microhei' instead”\n",
            "Warning message in text.default(x1, y1, words[i], cex = size[i], offset = 0, srt = rotWord * :\n",
            "“font family '華康少女體' not found, will use 'wqy-microhei' instead”\n",
            "Warning message in text.default(x1, y1, words[i], cex = size[i], offset = 0, srt = rotWord * :\n",
            "“font family '華康少女體' not found, will use 'wqy-microhei' instead”\n",
            "Warning message in strwidth(words[i], cex = size[i], ...):\n",
            "“font family '華康少女體' not found, will use 'wqy-microhei' instead”\n",
            "Warning message in strheight(words[i], cex = size[i], ...):\n",
            "“font family '華康少女體' not found, will use 'sans' instead”\n",
            "Warning message in text.default(x1, y1, words[i], cex = size[i], offset = 0, srt = rotWord * :\n",
            "“font family '華康少女體' not found, will use 'wqy-microhei' instead”\n",
            "Warning message in text.default(x1, y1, words[i], cex = size[i], offset = 0, srt = rotWord * :\n",
            "“font family '華康少女體' not found, will use 'wqy-microhei' instead”\n",
            "Warning message in text.default(x1, y1, words[i], cex = size[i], offset = 0, srt = rotWord * :\n",
            "“font family '華康少女體' not found, will use 'wqy-microhei' instead”\n",
            "Warning message in text.default(x1, y1, words[i], cex = size[i], offset = 0, srt = rotWord * :\n",
            "“font family '華康少女體' not found, will use 'wqy-microhei' instead”\n",
            "Warning message in text.default(x1, y1, words[i], cex = size[i], offset = 0, srt = rotWord * :\n",
            "“font family '華康少女體' not found, will use 'wqy-microhei' instead”\n",
            "Warning message in text.default(x1, y1, words[i], cex = size[i], offset = 0, srt = rotWord * :\n",
            "“font family '華康少女體' not found, will use 'wqy-microhei' instead”\n",
            "Warning message in text.default(x1, y1, words[i], cex = size[i], offset = 0, srt = rotWord * :\n",
            "“font family '華康少女體' not found, will use 'wqy-microhei' instead”\n",
            "Warning message in strwidth(words[i], cex = size[i], ...):\n",
            "“font family '華康少女體' not found, will use 'wqy-microhei' instead”\n",
            "Warning message in text.default(x1, y1, words[i], cex = size[i], offset = 0, srt = rotWord * :\n",
            "“font family '華康少女體' not found, will use 'wqy-microhei' instead”\n",
            "Warning message in text.default(x1, y1, words[i], cex = size[i], offset = 0, srt = rotWord * :\n",
            "“font family '華康少女體' not found, will use 'wqy-microhei' instead”\n",
            "Warning message in text.default(x1, y1, words[i], cex = size[i], offset = 0, srt = rotWord * :\n",
            "“font family '華康少女體' not found, will use 'wqy-microhei' instead”\n",
            "Warning message in text.default(x1, y1, words[i], cex = size[i], offset = 0, srt = rotWord * :\n",
            "“font family '華康少女體' not found, will use 'wqy-microhei' instead”\n",
            "Warning message in strwidth(words[i], cex = size[i], ...):\n",
            "“font family '華康少女體' not found, will use 'wqy-microhei' instead”\n",
            "Warning message in text.default(x1, y1, words[i], cex = size[i], offset = 0, srt = rotWord * :\n",
            "“font family '華康少女體' not found, will use 'wqy-microhei' instead”\n",
            "Warning message in text.default(x1, y1, words[i], cex = size[i], offset = 0, srt = rotWord * :\n",
            "“font family '華康少女體' not found, will use 'wqy-microhei' instead”\n",
            "Warning message in text.default(x1, y1, words[i], cex = size[i], offset = 0, srt = rotWord * :\n",
            "“font family '華康少女體' not found, will use 'wqy-microhei' instead”\n",
            "Warning message in text.default(x1, y1, words[i], cex = size[i], offset = 0, srt = rotWord * :\n",
            "“font family '華康少女體' not found, will use 'wqy-microhei' instead”\n",
            "Warning message in strwidth(words[i], cex = size[i], ...):\n",
            "“font family '華康少女體' not found, will use 'wqy-microhei' instead”\n",
            "Warning message in text.default(x1, y1, words[i], cex = size[i], offset = 0, srt = rotWord * :\n",
            "“font family '華康少女體' not found, will use 'wqy-microhei' instead”\n",
            "Warning message in text.default(x1, y1, words[i], cex = size[i], offset = 0, srt = rotWord * :\n",
            "“font family '華康少女體' not found, will use 'wqy-microhei' instead”\n",
            "Warning message in text.default(x1, y1, words[i], cex = size[i], offset = 0, srt = rotWord * :\n",
            "“font family '華康少女體' not found, will use 'wqy-microhei' instead”\n",
            "Warning message in text.default(x1, y1, words[i], cex = size[i], offset = 0, srt = rotWord * :\n",
            "“font family '華康少女體' not found, will use 'wqy-microhei' instead”\n",
            "Warning message in text.default(x1, y1, words[i], cex = size[i], offset = 0, srt = rotWord * :\n",
            "“font family '華康少女體' not found, will use 'wqy-microhei' instead”\n",
            "Warning message in strwidth(words[i], cex = size[i], ...):\n",
            "“font family '華康少女體' not found, will use 'wqy-microhei' instead”\n",
            "Warning message in text.default(x1, y1, words[i], cex = size[i], offset = 0, srt = rotWord * :\n",
            "“font family '華康少女體' not found, will use 'wqy-microhei' instead”\n",
            "Warning message in text.default(x1, y1, words[i], cex = size[i], offset = 0, srt = rotWord * :\n",
            "“font family '華康少女體' not found, will use 'wqy-microhei' instead”\n",
            "Warning message in text.default(x1, y1, words[i], cex = size[i], offset = 0, srt = rotWord * :\n",
            "“font family '華康少女體' not found, will use 'wqy-microhei' instead”\n",
            "Warning message in text.default(x1, y1, words[i], cex = size[i], offset = 0, srt = rotWord * :\n",
            "“font family '華康少女體' not found, will use 'wqy-microhei' instead”\n",
            "Warning message in text.default(x1, y1, words[i], cex = size[i], offset = 0, srt = rotWord * :\n",
            "“font family '華康少女體' not found, will use 'wqy-microhei' instead”\n",
            "Warning message in strwidth(words[i], cex = size[i], ...):\n",
            "“font family '華康少女體' not found, will use 'wqy-microhei' instead”\n",
            "Warning message in strheight(words[i], cex = size[i], ...):\n",
            "“font family '華康少女體' not found, will use 'sans' instead”\n",
            "Warning message in text.default(x1, y1, words[i], cex = size[i], offset = 0, srt = rotWord * :\n",
            "“font family '華康少女體' not found, will use 'wqy-microhei' instead”\n",
            "Warning message in text.default(x1, y1, words[i], cex = size[i], offset = 0, srt = rotWord * :\n",
            "“font family '華康少女體' not found, will use 'wqy-microhei' instead”\n",
            "Warning message in text.default(x1, y1, words[i], cex = size[i], offset = 0, srt = rotWord * :\n",
            "“font family '華康少女體' not found, will use 'wqy-microhei' instead”\n",
            "Warning message in text.default(x1, y1, words[i], cex = size[i], offset = 0, srt = rotWord * :\n",
            "“font family '華康少女體' not found, will use 'wqy-microhei' instead”\n",
            "Warning message in strwidth(words[i], cex = size[i], ...):\n",
            "“font family '華康少女體' not found, will use 'wqy-microhei' instead”\n",
            "Warning message in text.default(x1, y1, words[i], cex = size[i], offset = 0, srt = rotWord * :\n",
            "“font family '華康少女體' not found, will use 'wqy-microhei' instead”\n",
            "Warning message in text.default(x1, y1, words[i], cex = size[i], offset = 0, srt = rotWord * :\n",
            "“font family '華康少女體' not found, will use 'wqy-microhei' instead”\n",
            "Warning message in text.default(x1, y1, words[i], cex = size[i], offset = 0, srt = rotWord * :\n",
            "“font family '華康少女體' not found, will use 'wqy-microhei' instead”\n",
            "Warning message in text.default(x1, y1, words[i], cex = size[i], offset = 0, srt = rotWord * :\n",
            "“font family '華康少女體' not found, will use 'wqy-microhei' instead”\n",
            "Warning message in strwidth(words[i], cex = size[i], ...):\n",
            "“font family '華康少女體' not found, will use 'wqy-microhei' instead”\n",
            "Warning message in text.default(x1, y1, words[i], cex = size[i], offset = 0, srt = rotWord * :\n",
            "“font family '華康少女體' not found, will use 'wqy-microhei' instead”\n",
            "Warning message in text.default(x1, y1, words[i], cex = size[i], offset = 0, srt = rotWord * :\n",
            "“font family '華康少女體' not found, will use 'wqy-microhei' instead”\n",
            "Warning message in text.default(x1, y1, words[i], cex = size[i], offset = 0, srt = rotWord * :\n",
            "“font family '華康少女體' not found, will use 'wqy-microhei' instead”\n",
            "Warning message in text.default(x1, y1, words[i], cex = size[i], offset = 0, srt = rotWord * :\n",
            "“font family '華康少女體' not found, will use 'wqy-microhei' instead”\n",
            "Warning message in strwidth(words[i], cex = size[i], ...):\n",
            "“font family '華康少女體' not found, will use 'wqy-microhei' instead”\n",
            "Warning message in text.default(x1, y1, words[i], cex = size[i], offset = 0, srt = rotWord * :\n",
            "“font family '華康少女體' not found, will use 'wqy-microhei' instead”\n",
            "Warning message in text.default(x1, y1, words[i], cex = size[i], offset = 0, srt = rotWord * :\n",
            "“font family '華康少女體' not found, will use 'wqy-microhei' instead”\n",
            "Warning message in text.default(x1, y1, words[i], cex = size[i], offset = 0, srt = rotWord * :\n",
            "“font family '華康少女體' not found, will use 'wqy-microhei' instead”\n",
            "Warning message in strwidth(words[i], cex = size[i], ...):\n",
            "“font family '華康少女體' not found, will use 'wqy-microhei' instead”\n",
            "Warning message in text.default(x1, y1, words[i], cex = size[i], offset = 0, srt = rotWord * :\n",
            "“font family '華康少女體' not found, will use 'wqy-microhei' instead”\n",
            "Warning message in text.default(x1, y1, words[i], cex = size[i], offset = 0, srt = rotWord * :\n",
            "“font family '華康少女體' not found, will use 'wqy-microhei' instead”\n",
            "Warning message in text.default(x1, y1, words[i], cex = size[i], offset = 0, srt = rotWord * :\n",
            "“font family '華康少女體' not found, will use 'wqy-microhei' instead”\n",
            "Warning message in text.default(x1, y1, words[i], cex = size[i], offset = 0, srt = rotWord * :\n",
            "“font family '華康少女體' not found, will use 'wqy-microhei' instead”\n",
            "Warning message in strwidth(words[i], cex = size[i], ...):\n",
            "“font family '華康少女體' not found, will use 'wqy-microhei' instead”\n",
            "Warning message in text.default(x1, y1, words[i], cex = size[i], offset = 0, srt = rotWord * :\n",
            "“font family '華康少女體' not found, will use 'wqy-microhei' instead”\n",
            "Warning message in text.default(x1, y1, words[i], cex = size[i], offset = 0, srt = rotWord * :\n",
            "“font family '華康少女體' not found, will use 'wqy-microhei' instead”\n",
            "Warning message in text.default(x1, y1, words[i], cex = size[i], offset = 0, srt = rotWord * :\n",
            "“font family '華康少女體' not found, will use 'wqy-microhei' instead”\n",
            "Warning message in strwidth(words[i], cex = size[i], ...):\n",
            "“font family '華康少女體' not found, will use 'wqy-microhei' instead”\n",
            "Warning message in text.default(x1, y1, words[i], cex = size[i], offset = 0, srt = rotWord * :\n",
            "“font family '華康少女體' not found, will use 'wqy-microhei' instead”\n",
            "Warning message in text.default(x1, y1, words[i], cex = size[i], offset = 0, srt = rotWord * :\n",
            "“font family '華康少女體' not found, will use 'wqy-microhei' instead”\n",
            "Warning message in text.default(x1, y1, words[i], cex = size[i], offset = 0, srt = rotWord * :\n",
            "“font family '華康少女體' not found, will use 'wqy-microhei' instead”\n",
            "Warning message in text.default(x1, y1, words[i], cex = size[i], offset = 0, srt = rotWord * :\n",
            "“font family '華康少女體' not found, will use 'wqy-microhei' instead”\n",
            "Warning message in strwidth(words[i], cex = size[i], ...):\n",
            "“font family '華康少女體' not found, will use 'wqy-microhei' instead”\n",
            "Warning message in text.default(x1, y1, words[i], cex = size[i], offset = 0, srt = rotWord * :\n",
            "“font family '華康少女體' not found, will use 'wqy-microhei' instead”\n",
            "Warning message in text.default(x1, y1, words[i], cex = size[i], offset = 0, srt = rotWord * :\n",
            "“font family '華康少女體' not found, will use 'wqy-microhei' instead”\n",
            "Warning message in text.default(x1, y1, words[i], cex = size[i], offset = 0, srt = rotWord * :\n",
            "“font family '華康少女體' not found, will use 'wqy-microhei' instead”\n",
            "Warning message in text.default(x1, y1, words[i], cex = size[i], offset = 0, srt = rotWord * :\n",
            "“font family '華康少女體' not found, will use 'wqy-microhei' instead”\n",
            "Warning message in text.default(x1, y1, words[i], cex = size[i], offset = 0, srt = rotWord * :\n",
            "“font family '華康少女體' not found, will use 'wqy-microhei' instead”\n",
            "Warning message in strwidth(words[i], cex = size[i], ...):\n",
            "“font family '華康少女體' not found, will use 'wqy-microhei' instead”\n",
            "Warning message in text.default(x1, y1, words[i], cex = size[i], offset = 0, srt = rotWord * :\n",
            "“font family '華康少女體' not found, will use 'wqy-microhei' instead”\n",
            "Warning message in text.default(x1, y1, words[i], cex = size[i], offset = 0, srt = rotWord * :\n",
            "“font family '華康少女體' not found, will use 'wqy-microhei' instead”\n",
            "Warning message in text.default(x1, y1, words[i], cex = size[i], offset = 0, srt = rotWord * :\n",
            "“font family '華康少女體' not found, will use 'wqy-microhei' instead”\n",
            "Warning message in text.default(x1, y1, words[i], cex = size[i], offset = 0, srt = rotWord * :\n",
            "“font family '華康少女體' not found, will use 'wqy-microhei' instead”\n",
            "Warning message in strwidth(words[i], cex = size[i], ...):\n",
            "“font family '華康少女體' not found, will use 'wqy-microhei' instead”\n",
            "Warning message in text.default(x1, y1, words[i], cex = size[i], offset = 0, srt = rotWord * :\n",
            "“font family '華康少女體' not found, will use 'wqy-microhei' instead”\n",
            "Warning message in text.default(x1, y1, words[i], cex = size[i], offset = 0, srt = rotWord * :\n",
            "“font family '華康少女體' not found, will use 'wqy-microhei' instead”\n",
            "Warning message in text.default(x1, y1, words[i], cex = size[i], offset = 0, srt = rotWord * :\n",
            "“font family '華康少女體' not found, will use 'wqy-microhei' instead”\n",
            "Warning message in text.default(x1, y1, words[i], cex = size[i], offset = 0, srt = rotWord * :\n",
            "“font family '華康少女體' not found, will use 'wqy-microhei' instead”\n",
            "Warning message in strwidth(words[i], cex = size[i], ...):\n",
            "“font family '華康少女體' not found, will use 'wqy-microhei' instead”\n",
            "Warning message in text.default(x1, y1, words[i], cex = size[i], offset = 0, srt = rotWord * :\n",
            "“font family '華康少女體' not found, will use 'wqy-microhei' instead”\n",
            "Warning message in text.default(x1, y1, words[i], cex = size[i], offset = 0, srt = rotWord * :\n",
            "“font family '華康少女體' not found, will use 'wqy-microhei' instead”\n",
            "Warning message in text.default(x1, y1, words[i], cex = size[i], offset = 0, srt = rotWord * :\n",
            "“font family '華康少女體' not found, will use 'wqy-microhei' instead”\n",
            "Warning message in strwidth(words[i], cex = size[i], ...):\n",
            "“font family '華康少女體' not found, will use 'wqy-microhei' instead”\n",
            "Warning message in text.default(x1, y1, words[i], cex = size[i], offset = 0, srt = rotWord * :\n",
            "“font family '華康少女體' not found, will use 'wqy-microhei' instead”\n",
            "Warning message in text.default(x1, y1, words[i], cex = size[i], offset = 0, srt = rotWord * :\n",
            "“font family '華康少女體' not found, will use 'wqy-microhei' instead”\n",
            "Warning message in text.default(x1, y1, words[i], cex = size[i], offset = 0, srt = rotWord * :\n",
            "“font family '華康少女體' not found, will use 'wqy-microhei' instead”\n",
            "Warning message in text.default(x1, y1, words[i], cex = size[i], offset = 0, srt = rotWord * :\n",
            "“font family '華康少女體' not found, will use 'wqy-microhei' instead”\n",
            "Warning message in strwidth(words[i], cex = size[i], ...):\n",
            "“font family '華康少女體' not found, will use 'wqy-microhei' instead”\n",
            "Warning message in text.default(x1, y1, words[i], cex = size[i], offset = 0, srt = rotWord * :\n",
            "“font family '華康少女體' not found, will use 'wqy-microhei' instead”\n",
            "Warning message in text.default(x1, y1, words[i], cex = size[i], offset = 0, srt = rotWord * :\n",
            "“font family '華康少女體' not found, will use 'wqy-microhei' instead”\n",
            "Warning message in text.default(x1, y1, words[i], cex = size[i], offset = 0, srt = rotWord * :\n",
            "“font family '華康少女體' not found, will use 'wqy-microhei' instead”\n",
            "Warning message in strwidth(words[i], cex = size[i], ...):\n",
            "“font family '華康少女體' not found, will use 'wqy-microhei' instead”\n",
            "Warning message in text.default(x1, y1, words[i], cex = size[i], offset = 0, srt = rotWord * :\n",
            "“font family '華康少女體' not found, will use 'wqy-microhei' instead”\n",
            "Warning message in text.default(x1, y1, words[i], cex = size[i], offset = 0, srt = rotWord * :\n",
            "“font family '華康少女體' not found, will use 'wqy-microhei' instead”\n",
            "Warning message in text.default(x1, y1, words[i], cex = size[i], offset = 0, srt = rotWord * :\n",
            "“font family '華康少女體' not found, will use 'wqy-microhei' instead”\n",
            "Warning message in text.default(x1, y1, words[i], cex = size[i], offset = 0, srt = rotWord * :\n",
            "“font family '華康少女體' not found, will use 'wqy-microhei' instead”\n",
            "Warning message in strwidth(words[i], cex = size[i], ...):\n",
            "“font family '華康少女體' not found, will use 'wqy-microhei' instead”\n",
            "Warning message in text.default(x1, y1, words[i], cex = size[i], offset = 0, srt = rotWord * :\n",
            "“font family '華康少女體' not found, will use 'wqy-microhei' instead”\n",
            "Warning message in text.default(x1, y1, words[i], cex = size[i], offset = 0, srt = rotWord * :\n",
            "“font family '華康少女體' not found, will use 'wqy-microhei' instead”\n",
            "Warning message in text.default(x1, y1, words[i], cex = size[i], offset = 0, srt = rotWord * :\n",
            "“font family '華康少女體' not found, will use 'wqy-microhei' instead”\n",
            "Warning message in text.default(x1, y1, words[i], cex = size[i], offset = 0, srt = rotWord * :\n",
            "“font family '華康少女體' not found, will use 'wqy-microhei' instead”\n",
            "Warning message in strwidth(words[i], cex = size[i], ...):\n",
            "“font family '華康少女體' not found, will use 'wqy-microhei' instead”\n",
            "Warning message in text.default(x1, y1, words[i], cex = size[i], offset = 0, srt = rotWord * :\n",
            "“font family '華康少女體' not found, will use 'wqy-microhei' instead”\n",
            "Warning message in text.default(x1, y1, words[i], cex = size[i], offset = 0, srt = rotWord * :\n",
            "“font family '華康少女體' not found, will use 'wqy-microhei' instead”\n",
            "Warning message in text.default(x1, y1, words[i], cex = size[i], offset = 0, srt = rotWord * :\n",
            "“font family '華康少女體' not found, will use 'wqy-microhei' instead”\n",
            "Warning message in strwidth(words[i], cex = size[i], ...):\n",
            "“font family '華康少女體' not found, will use 'wqy-microhei' instead”\n",
            "Warning message in text.default(x1, y1, words[i], cex = size[i], offset = 0, srt = rotWord * :\n",
            "“font family '華康少女體' not found, will use 'wqy-microhei' instead”\n",
            "Warning message in text.default(x1, y1, words[i], cex = size[i], offset = 0, srt = rotWord * :\n",
            "“font family '華康少女體' not found, will use 'wqy-microhei' instead”\n",
            "Warning message in text.default(x1, y1, words[i], cex = size[i], offset = 0, srt = rotWord * :\n",
            "“font family '華康少女體' not found, will use 'wqy-microhei' instead”\n",
            "Warning message in text.default(x1, y1, words[i], cex = size[i], offset = 0, srt = rotWord * :\n",
            "“font family '華康少女體' not found, will use 'wqy-microhei' instead”\n",
            "Warning message in strwidth(words[i], cex = size[i], ...):\n",
            "“font family '華康少女體' not found, will use 'wqy-microhei' instead”\n",
            "Warning message in text.default(x1, y1, words[i], cex = size[i], offset = 0, srt = rotWord * :\n",
            "“font family '華康少女體' not found, will use 'wqy-microhei' instead”\n",
            "Warning message in text.default(x1, y1, words[i], cex = size[i], offset = 0, srt = rotWord * :\n",
            "“font family '華康少女體' not found, will use 'wqy-microhei' instead”\n",
            "Warning message in text.default(x1, y1, words[i], cex = size[i], offset = 0, srt = rotWord * :\n",
            "“font family '華康少女體' not found, will use 'wqy-microhei' instead”\n",
            "Warning message in text.default(x1, y1, words[i], cex = size[i], offset = 0, srt = rotWord * :\n",
            "“font family '華康少女體' not found, will use 'wqy-microhei' instead”\n",
            "Warning message in strwidth(words[i], cex = size[i], ...):\n",
            "“font family '華康少女體' not found, will use 'wqy-microhei' instead”\n",
            "Warning message in text.default(x1, y1, words[i], cex = size[i], offset = 0, srt = rotWord * :\n",
            "“font family '華康少女體' not found, will use 'wqy-microhei' instead”\n",
            "Warning message in text.default(x1, y1, words[i], cex = size[i], offset = 0, srt = rotWord * :\n",
            "“font family '華康少女體' not found, will use 'wqy-microhei' instead”\n",
            "Warning message in text.default(x1, y1, words[i], cex = size[i], offset = 0, srt = rotWord * :\n",
            "“font family '華康少女體' not found, will use 'wqy-microhei' instead”\n",
            "Warning message in strwidth(words[i], cex = size[i], ...):\n",
            "“font family '華康少女體' not found, will use 'wqy-microhei' instead”\n",
            "Warning message in text.default(x1, y1, words[i], cex = size[i], offset = 0, srt = rotWord * :\n",
            "“font family '華康少女體' not found, will use 'wqy-microhei' instead”\n",
            "Warning message in text.default(x1, y1, words[i], cex = size[i], offset = 0, srt = rotWord * :\n",
            "“font family '華康少女體' not found, will use 'wqy-microhei' instead”\n",
            "Warning message in text.default(x1, y1, words[i], cex = size[i], offset = 0, srt = rotWord * :\n",
            "“font family '華康少女體' not found, will use 'wqy-microhei' instead”\n",
            "Warning message in strwidth(words[i], cex = size[i], ...):\n",
            "“font family '華康少女體' not found, will use 'wqy-microhei' instead”\n",
            "Warning message in text.default(x1, y1, words[i], cex = size[i], offset = 0, srt = rotWord * :\n",
            "“font family '華康少女體' not found, will use 'wqy-microhei' instead”\n",
            "Warning message in text.default(x1, y1, words[i], cex = size[i], offset = 0, srt = rotWord * :\n",
            "“font family '華康少女體' not found, will use 'wqy-microhei' instead”\n",
            "Warning message in text.default(x1, y1, words[i], cex = size[i], offset = 0, srt = rotWord * :\n",
            "“font family '華康少女體' not found, will use 'wqy-microhei' instead”\n",
            "Warning message in strwidth(words[i], cex = size[i], ...):\n",
            "“font family '華康少女體' not found, will use 'wqy-microhei' instead”\n",
            "Warning message in text.default(x1, y1, words[i], cex = size[i], offset = 0, srt = rotWord * :\n",
            "“font family '華康少女體' not found, will use 'wqy-microhei' instead”\n",
            "Warning message in text.default(x1, y1, words[i], cex = size[i], offset = 0, srt = rotWord * :\n",
            "“font family '華康少女體' not found, will use 'wqy-microhei' instead”\n",
            "Warning message in text.default(x1, y1, words[i], cex = size[i], offset = 0, srt = rotWord * :\n",
            "“font family '華康少女體' not found, will use 'wqy-microhei' instead”\n",
            "Warning message in text.default(x1, y1, words[i], cex = size[i], offset = 0, srt = rotWord * :\n",
            "“font family '華康少女體' not found, will use 'wqy-microhei' instead”\n",
            "Warning message in strwidth(words[i], cex = size[i], ...):\n",
            "“font family '華康少女體' not found, will use 'wqy-microhei' instead”\n",
            "Warning message in text.default(x1, y1, words[i], cex = size[i], offset = 0, srt = rotWord * :\n",
            "“font family '華康少女體' not found, will use 'wqy-microhei' instead”\n",
            "Warning message in text.default(x1, y1, words[i], cex = size[i], offset = 0, srt = rotWord * :\n",
            "“font family '華康少女體' not found, will use 'wqy-microhei' instead”\n",
            "Warning message in text.default(x1, y1, words[i], cex = size[i], offset = 0, srt = rotWord * :\n",
            "“font family '華康少女體' not found, will use 'wqy-microhei' instead”\n",
            "Warning message in strwidth(words[i], cex = size[i], ...):\n",
            "“font family '華康少女體' not found, will use 'wqy-microhei' instead”\n",
            "Warning message in text.default(x1, y1, words[i], cex = size[i], offset = 0, srt = rotWord * :\n",
            "“font family '華康少女體' not found, will use 'wqy-microhei' instead”\n",
            "Warning message in text.default(x1, y1, words[i], cex = size[i], offset = 0, srt = rotWord * :\n",
            "“font family '華康少女體' not found, will use 'wqy-microhei' instead”\n",
            "Warning message in text.default(x1, y1, words[i], cex = size[i], offset = 0, srt = rotWord * :\n",
            "“font family '華康少女體' not found, will use 'wqy-microhei' instead”\n",
            "Warning message in text.default(x1, y1, words[i], cex = size[i], offset = 0, srt = rotWord * :\n",
            "“font family '華康少女體' not found, will use 'wqy-microhei' instead”\n",
            "Warning message in text.default(x1, y1, words[i], cex = size[i], offset = 0, srt = rotWord * :\n",
            "“font family '華康少女體' not found, will use 'wqy-microhei' instead”\n",
            "Warning message in strwidth(words[i], cex = size[i], ...):\n",
            "“font family '華康少女體' not found, will use 'wqy-microhei' instead”\n",
            "Warning message in text.default(x1, y1, words[i], cex = size[i], offset = 0, srt = rotWord * :\n",
            "“font family '華康少女體' not found, will use 'wqy-microhei' instead”\n",
            "Warning message in text.default(x1, y1, words[i], cex = size[i], offset = 0, srt = rotWord * :\n",
            "“font family '華康少女體' not found, will use 'wqy-microhei' instead”\n",
            "Warning message in text.default(x1, y1, words[i], cex = size[i], offset = 0, srt = rotWord * :\n",
            "“font family '華康少女體' not found, will use 'wqy-microhei' instead”\n"
          ],
          "name": "stderr"
        },
        {
          "output_type": "display_data",
          "data": {
            "image/png": "[encoded data removed]",
            "text/plain": [
              "plot without title"
            ]
          },
          "metadata": {
            "tags": [],
            "image/png": {
              "width": 420,
              "height": 420
            }
          }
        }
      ]
    }
  ]
}